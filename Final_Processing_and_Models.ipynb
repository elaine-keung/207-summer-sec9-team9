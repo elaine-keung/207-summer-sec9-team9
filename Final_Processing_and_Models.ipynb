{
  "cells": [
    {
      "cell_type": "code",
      "source": [
        "import os\n",
        "import random\n",
        "import re\n",
        "from datetime import datetime\n",
        "\n",
        "import numpy as np\n",
        "import pandas as pd\n",
        "import matplotlib.pyplot as plt\n",
        "import seaborn as sns\n",
        "import tensorflow as tf\n",
        "from IPython.display import Image\n",
        "from nltk.corpus import stopwords\n",
        "from sklearn.feature_extraction.text import TfidfVectorizer\n",
        "from sklearn.linear_model import LogisticRegression\n",
        "from sklearn.metrics import accuracy_score, classification_report\n",
        "from sklearn.model_selection import train_test_split\n",
        "from sklearn.preprocessing import LabelEncoder, StandardScaler\n",
        "from tensorflow.keras.preprocessing.text import Tokenizer\n",
        "\n",
        "from google.colab import drive\n",
        "\n",
        "# For visualizations\n",
        "from mlxtend.plotting import heatmap, plot_decision_regions\n",
        "\n",
        "# Download NLTK stopwords\n",
        "import nltk\n",
        "nltk.download('stopwords')\n",
        "\n",
        "# Set up matplotlib for inline display\n",
        "%matplotlib inline\n",
        "\n",
        "# If working in Google Colab, uncomment the following line\n",
        "drive.mount('/content/gdrive')\n",
        "\n",
        "# Set a random seed for reproducibility\n",
        "random.seed(2)"
      ],
      "metadata": {
        "colab": {
          "base_uri": "https://localhost:8080/"
        },
        "id": "G1Ofe2IBGYJv",
        "outputId": "c2826b08-3961-47af-8f35-86a3cd0f577a"
      },
      "id": "G1Ofe2IBGYJv",
      "execution_count": 1,
      "outputs": [
        {
          "output_type": "stream",
          "name": "stderr",
          "text": [
            "[nltk_data] Downloading package stopwords to /root/nltk_data...\n",
            "[nltk_data]   Unzipping corpora/stopwords.zip.\n"
          ]
        },
        {
          "output_type": "stream",
          "name": "stdout",
          "text": [
            "Mounted at /content/gdrive\n"
          ]
        }
      ]
    },
    {
      "cell_type": "markdown",
      "source": [
        "## Data Cleaning and Processing"
      ],
      "metadata": {
        "id": "ERBqSxJ26rYb"
      },
      "id": "ERBqSxJ26rYb"
    },
    {
      "cell_type": "code",
      "execution_count": 2,
      "id": "133c48d5",
      "metadata": {
        "id": "133c48d5"
      },
      "outputs": [],
      "source": [
        "stop_words = set(stopwords.words('english'))\n",
        "\n",
        "def load_and_prepare_data(file_path):\n",
        "    \"\"\"\n",
        "    Load the dataset and prepare it for processing.\n",
        "\n",
        "    Parameters:\n",
        "    file_path (str): The path to the dataset file.\n",
        "\n",
        "    Returns:\n",
        "    pd.DataFrame: The loaded dataset.\n",
        "    \"\"\"\n",
        "    df = pd.read_csv(file_path)\n",
        "    return df\n",
        "\n",
        "def convert_release_date(df):\n",
        "    \"\"\"\n",
        "    Convert release_date to datetime and calculate age_of_game.\n",
        "\n",
        "    Parameters:\n",
        "    df (pd.DataFrame): The DataFrame containing the release_date column.\n",
        "\n",
        "    Returns:\n",
        "    pd.DataFrame: The DataFrame with the age_of_game column added.\n",
        "    \"\"\"\n",
        "    df['release_date'] = pd.to_datetime(df['release_date'], format='%d %b, %Y', errors='coerce')\n",
        "    current_date = datetime.now()\n",
        "    df['age_of_game'] = df['release_date'].apply(lambda x: current_date.year - x.year if pd.notnull(x) else None)\n",
        "    return df\n",
        "\n",
        "def clean_discounted_price(df):\n",
        "    \"\"\"\n",
        "    Clean the discounted_price column by handling 'Free' values and removing currency symbols.\n",
        "\n",
        "    Parameters:\n",
        "    df (pd.DataFrame): The DataFrame containing the discounted_price column.\n",
        "\n",
        "    Returns:\n",
        "    pd.DataFrame: The cleaned DataFrame.\n",
        "    \"\"\"\n",
        "    df['discounted_price'] = df['discounted_price'].replace('Free', '0')\n",
        "    df['discounted_price'] = df['discounted_price'].str.replace('₹', '').str.replace(',', '').astype(float)\n",
        "    return df\n",
        "\n",
        "def remove_invalid_release_dates(df, cutoff_date='2024-05-09'):\n",
        "    \"\"\"\n",
        "    Remove games with release dates after the data was scraped.\n",
        "\n",
        "    Parameters:\n",
        "    df (pd.DataFrame): The DataFrame containing the release_date column.\n",
        "    cutoff_date (str): The cutoff date to filter the release_date column.\n",
        "\n",
        "    Returns:\n",
        "    pd.DataFrame: The filtered DataFrame.\n",
        "    \"\"\"\n",
        "    cutoff = pd.to_datetime(cutoff_date)\n",
        "    df = df[df['release_date'] <= cutoff]\n",
        "    return df\n",
        "\n",
        "def split_genres(df, column='genres'):\n",
        "    \"\"\"\n",
        "    One-hot encode the genres column.\n",
        "\n",
        "    Parameters:\n",
        "    df (pd.DataFrame): The DataFrame with a genres column.\n",
        "    column (str): The name of the genres column to be split.\n",
        "\n",
        "    Returns:\n",
        "    pd.DataFrame: The DataFrame with one-hot encoded genre columns.\n",
        "    \"\"\"\n",
        "    genres_split = df[column].str.get_dummies(sep=', ')\n",
        "    df = pd.concat([df, genres_split], axis=1)\n",
        "    return df\n",
        "\n",
        "def transform_to_binary_class(df, column_name, threshold):\n",
        "    \"\"\"\n",
        "    Transform a numerical column into binary classes.\n",
        "\n",
        "    Parameters:\n",
        "    df (pd.DataFrame): The DataFrame containing the column to transform.\n",
        "    column_name (str): The name of the column to transform.\n",
        "    threshold (float): The threshold to determine binary classes.\n",
        "\n",
        "    Returns:\n",
        "    pd.DataFrame: The DataFrame with a new binary class column.\n",
        "    \"\"\"\n",
        "    df['binary_class'] = df[column_name].apply(lambda x: 'positive' if x >= threshold else 'negative')\n",
        "    return df\n",
        "\n",
        "def preprocess_text(text, stop_words):\n",
        "    \"\"\"\n",
        "    Preprocess text by lowercasing, removing punctuation, and stopwords.\n",
        "\n",
        "    Parameters:\n",
        "    text (str or other): The text to preprocess. If not a string, it will be converted to a string.\n",
        "    stop_words (set): A set of stopwords to remove from the text.\n",
        "\n",
        "    Returns:\n",
        "    str: The preprocessed text.\n",
        "    \"\"\"\n",
        "    # Ensure the input is a string\n",
        "    text = str(text)\n",
        "    text = text.lower()\n",
        "    text = re.sub(r'[^\\w\\s]', '', text)\n",
        "    text = ' '.join(word for word in text.split() if word not in stop_words)\n",
        "    return text\n",
        "\n",
        "def preprocess_dataframe(df, text_column):\n",
        "    \"\"\"\n",
        "    Apply text preprocessing to a specified column in the DataFrame.\n",
        "\n",
        "    Parameters:\n",
        "    df (pd.DataFrame): The DataFrame containing the text column.\n",
        "    text_column (str): The name of the text column to preprocess.\n",
        "\n",
        "    Returns:\n",
        "    pd.DataFrame: The DataFrame with preprocessed text.\n",
        "    \"\"\"\n",
        "    df[text_column] = df[text_column].apply(lambda x: preprocess_text(x, stop_words))\n",
        "    return df\n",
        "\n",
        "def tokenize_text(df, text_column, num_words=5000, oov_token='<OOV>'):\n",
        "    \"\"\"\n",
        "    Tokenize the text data and limit the vocabulary size.\n",
        "\n",
        "    Parameters:\n",
        "    df (pd.DataFrame): The DataFrame containing the text column to tokenize.\n",
        "    text_column (str): The name of the text column.\n",
        "    num_words (int): The maximum number of words to keep in the tokenizer's vocabulary.\n",
        "    oov_token (str): The token for out-of-vocabulary words.\n",
        "\n",
        "    Returns:\n",
        "    pd.DataFrame: The DataFrame with tokenized text.\n",
        "    Tokenizer: The fitted Keras tokenizer instance.\n",
        "    \"\"\"\n",
        "    tokenizer = Tokenizer(num_words=num_words, oov_token=oov_token)\n",
        "    tokenizer.fit_on_texts(df[text_column])\n",
        "    df['tokenized_text'] = tokenizer.texts_to_sequences(df[text_column])\n",
        "    return df, tokenizer\n",
        "\n",
        "def truncate_pad_data(sequences, max_length):\n",
        "    \"\"\"\n",
        "    Pads and truncates sequences to a specified maximum length.\n",
        "\n",
        "    Parameters:\n",
        "    sequences (list of list of int): The tokenized text sequences to pad/truncate.\n",
        "    max_length (int): The maximum length for the sequences.\n",
        "\n",
        "    Returns:\n",
        "    np.ndarray: The padded/truncated sequences as a NumPy array.\n",
        "    \"\"\"\n",
        "    padded_data = tf.keras.preprocessing.sequence.pad_sequences(\n",
        "        sequences, maxlen=max_length, padding='post', truncating='post', value=0)\n",
        "    return padded_data\n",
        "\n",
        "def preprocess_numerical_features(train_df, test_df, columns):\n",
        "    \"\"\"\n",
        "    Scale numerical features using StandardScaler and replace the original columns with the scaled values.\n",
        "\n",
        "    Parameters:\n",
        "    train_df (pd.DataFrame): The training dataset.\n",
        "    test_df (pd.DataFrame): The test dataset.\n",
        "    columns (list): The list of columns to scale.\n",
        "\n",
        "    Returns:\n",
        "    pd.DataFrame, pd.DataFrame: The training and test datasets with scaled numerical features.\n",
        "    \"\"\"\n",
        "    scaler = StandardScaler()\n",
        "    train_df[columns] = scaler.fit_transform(train_df[columns])\n",
        "    test_df[columns] = scaler.transform(test_df[columns])\n",
        "\n",
        "    return train_df, test_df\n",
        "\n",
        "def encode_labels(df, column):\n",
        "    \"\"\"\n",
        "    Encode binary class labels.\n",
        "\n",
        "    Parameters:\n",
        "    df (pd.DataFrame): The DataFrame containing the binary class column.\n",
        "    column (str): The name of the binary class column.\n",
        "\n",
        "    Returns:\n",
        "    pd.Series: The encoded labels.\n",
        "    \"\"\"\n",
        "    label_encoder = LabelEncoder()\n",
        "    return label_encoder.fit_transform(df[column])\n",
        "\n",
        "def process_datasets(X_train, X_val, X_test, text_column, max_length=35, num_words=5000):\n",
        "    \"\"\"\n",
        "    Preprocess, tokenize, and pad text data in training, validation, and test datasets.\n",
        "\n",
        "    Parameters:\n",
        "    X_train (pd.DataFrame): The training dataset.\n",
        "    X_val (pd.DataFrame): The validation dataset.\n",
        "    X_test (pd.DataFrame): The test dataset.\n",
        "    text_column (str): The name of the text column to process.\n",
        "    max_length (int): The maximum length for padding sequences.\n",
        "    num_words (int): The maximum number of words to keep in the tokenizer's vocabulary.\n",
        "\n",
        "    Returns:\n",
        "    tuple: The processed training, validation, and test datasets.\n",
        "    \"\"\"\n",
        "    # Preprocess text\n",
        "    X_train = preprocess_dataframe(X_train, text_column)\n",
        "    X_val = preprocess_dataframe(X_val, text_column)\n",
        "    X_test = preprocess_dataframe(X_test, text_column)\n",
        "\n",
        "    # Tokenize text\n",
        "    X_train, tokenizer = tokenize_text(X_train, text_column, num_words=num_words)\n",
        "    X_val['tokenized_text'] = tokenizer.texts_to_sequences(X_val[text_column])\n",
        "    X_test['tokenized_text'] = tokenizer.texts_to_sequences(X_test[text_column])\n",
        "\n",
        "    # Pad sequences\n",
        "    X_train['padded_text'] = list(truncate_pad_data(X_train['tokenized_text'], max_length=max_length))\n",
        "    X_val['padded_text'] = list(truncate_pad_data(X_val['tokenized_text'], max_length=max_length))\n",
        "    X_test['padded_text'] = list(truncate_pad_data(X_test['tokenized_text'], max_length=max_length))\n",
        "\n",
        "    # Drop unnecessary columns\n",
        "    X_train.drop(columns=[text_column, 'tokenized_text'], inplace=True)\n",
        "    X_val.drop(columns=[text_column, 'tokenized_text'], inplace=True)\n",
        "    X_test.drop(columns=[text_column, 'tokenized_text'], inplace=True)\n",
        "\n",
        "    return X_train, X_val, X_test\n",
        "\n",
        "\n",
        "def data_cleaning(df):\n",
        "    \"\"\"\n",
        "    Main function to clean and preprocess the data.\n",
        "\n",
        "    Parameters:\n",
        "    df (pd.DataFrame): The DataFrame to clean and preprocess.\n",
        "\n",
        "    Returns:\n",
        "    pd.DataFrame: The cleaned DataFrame.\n",
        "    \"\"\"\n",
        "    df = convert_release_date(df)\n",
        "    df = clean_discounted_price(df)\n",
        "    df = remove_invalid_release_dates(df)\n",
        "    df = split_genres(df)\n",
        "\n",
        "    return df\n",
        "\n",
        "def data_processing(df):\n",
        "    \"\"\"\n",
        "    Main function to process the data, including splitting, encoding, and feature preparation.\n",
        "\n",
        "    Parameters:\n",
        "    df (pd.DataFrame): The cleaned DataFrame.\n",
        "\n",
        "    Returns:\n",
        "    tuple: The processed training, validation, and test datasets along with labels.\n",
        "    \"\"\"\n",
        "    # Drop unnecessary columns\n",
        "    columns_to_drop = ['overall_review', 'overall_review_count', 'genres', 'app_id', 'title', 'dlc_available', 'age_rating','win_support', 'mac_support','linux_support',\n",
        "                       'release_date', 'categories', 'developer','publisher','original_price', 'discount_percentage', 'content_descriptor', 'recent_review','recent_review_%', 'recent_review_count']\n",
        "    df.drop(columns=columns_to_drop, inplace=True)\n",
        "    # Drop any rows with null values before any processing\n",
        "    df.dropna(inplace=True)\n",
        "\n",
        "    # Split data into train and test\n",
        "    train_df, test_df = train_test_split(df, test_size=0.2, random_state=42)\n",
        "\n",
        "    # Transform review percentage to binary classes\n",
        "    threshold = train_df['overall_review_%'].median()\n",
        "    train_df = transform_to_binary_class(train_df, 'overall_review_%', threshold)\n",
        "    test_df = transform_to_binary_class(test_df, 'overall_review_%', threshold)\n",
        "\n",
        "    # Drop unnecessary columns\n",
        "    columns_to_drop = ['overall_review_%']\n",
        "    train_df.drop(columns=columns_to_drop, inplace=True)\n",
        "    test_df.drop(columns=columns_to_drop, inplace=True)\n",
        "\n",
        "    # Preprocess numerical features (replacing the original columns)\n",
        "    numerical_columns = ['discounted_price', 'age_of_game', 'awards']\n",
        "    train_df, test_df = preprocess_numerical_features(train_df, test_df, numerical_columns)\n",
        "\n",
        "    # Create validation set from the training data\n",
        "    train_df, val_df = train_test_split(train_df, test_size=0.25, random_state=42)\n",
        "\n",
        "    # Preprocess text features and drop unnecessary columns\n",
        "    X_train, X_val, X_test = process_datasets(train_df, val_df, test_df, 'about_description')\n",
        "\n",
        "    # Encode labels\n",
        "    y_train = encode_labels(train_df, 'binary_class')\n",
        "    y_val = encode_labels(val_df, 'binary_class')\n",
        "    y_test = encode_labels(test_df, 'binary_class')\n",
        "\n",
        "    # Combine all features (numerical, genre, text)\n",
        "    X_train = pd.concat([X_train], axis=1)\n",
        "    X_val = pd.concat([X_val], axis=1)\n",
        "    X_test = pd.concat([X_test], axis=1)\n",
        "\n",
        "    # Drop target from X sets\n",
        "    columns_to_drop = ['binary_class']\n",
        "    X_train.drop(columns=columns_to_drop, inplace=True)\n",
        "    X_val.drop(columns=columns_to_drop, inplace=True)\n",
        "    X_test.drop(columns=columns_to_drop, inplace=True)\n",
        "\n",
        "\n",
        "    return X_train, X_val, X_test, y_train, y_val, y_test"
      ]
    },
    {
      "cell_type": "code",
      "execution_count": 3,
      "id": "03883cfa",
      "metadata": {
        "id": "03883cfa"
      },
      "outputs": [],
      "source": [
        "file_path = 'gdrive/My Drive/steam-games.csv'\n",
        "df = load_and_prepare_data(file_path)\n",
        "df_cleaned = data_cleaning(df)\n",
        "X_train, X_val, X_test, y_train, y_val, y_test = data_processing(df_cleaned)"
      ]
    },
    {
      "cell_type": "code",
      "source": [
        "# Print the shapes of the outputs\n",
        "print(\"Shapes:\")\n",
        "print(f\"X_train: {X_train.shape}, y_train: {y_train.shape}\")\n",
        "print(f\"X_val: {X_val.shape}, y_val: {y_val.shape}\")\n",
        "print(f\"X_test: {X_test.shape}, y_test: {y_test.shape}\")"
      ],
      "metadata": {
        "colab": {
          "base_uri": "https://localhost:8080/"
        },
        "id": "atUspuKBK-zc",
        "outputId": "2e9ac289-165b-4082-982f-30718b6de900"
      },
      "id": "atUspuKBK-zc",
      "execution_count": 4,
      "outputs": [
        {
          "output_type": "stream",
          "name": "stdout",
          "text": [
            "Shapes:\n",
            "X_train: (23688, 26), y_train: (23688,)\n",
            "X_val: (7896, 26), y_val: (7896,)\n",
            "X_test: (7897, 26), y_test: (7897,)\n"
          ]
        }
      ]
    },
    {
      "cell_type": "markdown",
      "source": [
        "# Neural Network with all features and learned embeddings"
      ],
      "metadata": {
        "id": "xe91T_ZP6yD0"
      },
      "id": "xe91T_ZP6yD0"
    },
    {
      "cell_type": "markdown",
      "id": "b99da176",
      "metadata": {
        "id": "b99da176"
      },
      "source": [
        "## Prepare features"
      ]
    },
    {
      "cell_type": "code",
      "source": [
        "def prepare_combined_features(X_train, X_val, X_test):\n",
        "    \"\"\"\n",
        "    Prepare combined features by converting padded text to NumPy arrays and combining them with all other features.\n",
        "\n",
        "    Parameters:\n",
        "    X_train (pd.DataFrame): The training dataset.\n",
        "    X_val (pd.DataFrame): The validation dataset.\n",
        "    X_test (pd.DataFrame): The test dataset.\n",
        "\n",
        "    Returns:\n",
        "    tuple: Combined feature arrays for training, validation, and test datasets.\n",
        "    \"\"\"\n",
        "    # Convert padded text to NumPy arrays\n",
        "    X_train_padded = np.array(X_train['padded_text'].tolist())\n",
        "    X_val_padded = np.array(X_val['padded_text'].tolist())\n",
        "    X_test_padded = np.array(X_test['padded_text'].tolist())\n",
        "\n",
        "    # Get all columns except 'padded_text'\n",
        "    feature_columns = [col for col in X_train.columns if col != 'padded_text']\n",
        "\n",
        "    # Combine padded text with other features\n",
        "    X_train_features = X_train[feature_columns].to_numpy()\n",
        "    X_val_features = X_val[feature_columns].to_numpy()\n",
        "    X_test_features = X_test[feature_columns].to_numpy()\n",
        "\n",
        "    X_train_combined = np.hstack((X_train_padded, X_train_features))\n",
        "    X_val_combined = np.hstack((X_val_padded, X_val_features))\n",
        "    X_test_combined = np.hstack((X_test_padded, X_test_features))\n",
        "\n",
        "    return X_train_combined, X_val_combined, X_test_combined\n"
      ],
      "metadata": {
        "id": "zDj9BBJj3X9D"
      },
      "id": "zDj9BBJj3X9D",
      "execution_count": 5,
      "outputs": []
    },
    {
      "cell_type": "code",
      "source": [
        "X_train_combined, X_val_combined, X_test_combined = prepare_combined_features(X_train, X_val, X_test)"
      ],
      "metadata": {
        "id": "pSC-fPUp39Wc"
      },
      "id": "pSC-fPUp39Wc",
      "execution_count": 6,
      "outputs": []
    },
    {
      "cell_type": "markdown",
      "source": [
        "## Neural Network Model"
      ],
      "metadata": {
        "id": "pOitPizS7RyI"
      },
      "id": "pOitPizS7RyI"
    },
    {
      "cell_type": "code",
      "source": [
        "import numpy as np\n",
        "import tensorflow as tf\n",
        "from tensorflow.keras import layers, models, Sequential\n",
        "\n",
        "# Ensure reproducibility\n",
        "tf.keras.backend.clear_session()\n",
        "tf.random.set_seed(1234)\n",
        "\n",
        "# Final model setup with improved regularization and adjustments\n",
        "def create_improved_model(vocab_size=5000, embedding_dim=2, num_other_features=10,\n",
        "                          dense_units=32, dropout_rate=0.4, learning_rate=0.001, max_token_length = 35):\n",
        "    \"\"\"Build an improved Keras model using the Sequential API with regularization.\"\"\"\n",
        "\n",
        "    # Sequential model for text embeddings\n",
        "    text_model = Sequential(name=\"TextModel\")\n",
        "    text_model.add(layers.Embedding(input_dim=vocab_size, output_dim=embedding_dim))\n",
        "    text_model.add(layers.GlobalAveragePooling1D())\n",
        "\n",
        "    # Sequential model for additional features\n",
        "    features_model = Sequential(name=\"FeaturesModel\")\n",
        "    features_model.add(layers.Input(shape=(num_other_features,)))\n",
        "\n",
        "    # Define a combined model using functional API to merge Sequential models\n",
        "    combined_input = tf.keras.Input(shape=(max_token_length + num_other_features,), name='combined_input')\n",
        "\n",
        "    # Process text part separately\n",
        "    text_out = text_model(combined_input[:, :max_token_length])\n",
        "\n",
        "    # Process features part separately\n",
        "    features_out = combined_input[:, max_token_length:]\n",
        "\n",
        "    # Concatenate the processed outputs\n",
        "    concatenated = layers.concatenate([text_out, features_out], name='Concatenate')\n",
        "\n",
        "    # Define dense layers with improved regularization\n",
        "    x = layers.Dense(dense_units, activation='relu', kernel_regularizer=tf.keras.regularizers.l2(0.01))(concatenated)\n",
        "    x = layers.Dropout(dropout_rate)(x)\n",
        "    x = layers.Dense(int(dense_units / 2), activation='relu', kernel_regularizer=tf.keras.regularizers.l2(0.01))(x)\n",
        "    output = layers.Dense(1, activation='sigmoid')(x)\n",
        "\n",
        "    # Build final model\n",
        "    model = models.Model(inputs=combined_input, outputs=output)\n",
        "    model.compile(\n",
        "        loss='binary_crossentropy',\n",
        "        optimizer=tf.keras.optimizers.Adam(learning_rate=learning_rate),\n",
        "        metrics=[tf.keras.metrics.BinaryAccuracy()]\n",
        "    )\n",
        "    return model\n",
        "\n",
        "# Build the improved model\n",
        "improved_model = create_improved_model(\n",
        "    vocab_size=5000,\n",
        "    embedding_dim=2,\n",
        "    num_other_features=X_train.shape[1]-1,\n",
        "    dense_units=32,\n",
        "    dropout_rate=0.4,  # Increased dropout for regularization\n",
        "    learning_rate=0.001\n",
        ")\n",
        "\n",
        "# Train the improved model with early stopping\n",
        "early_stopping = tf.keras.callbacks.EarlyStopping(monitor='val_loss', patience=3, restore_best_weights=True)\n",
        "\n",
        "history = improved_model.fit(\n",
        "    x=X_train_combined,\n",
        "    y=y_train,\n",
        "    validation_data=(X_val_combined, y_val),\n",
        "    epochs=10,\n",
        "    batch_size=64,\n",
        "    callbacks=[early_stopping],\n",
        "    verbose=1\n",
        ")\n",
        "\n",
        "# Evaluate the improved model\n",
        "final_val_accuracy = improved_model.evaluate(X_val_combined, y_val, verbose=0)\n",
        "print(f\"Final Validation Accuracy: {final_val_accuracy[1]:.2f}\")\n",
        "\n",
        "# Plot loss for train and validation\n",
        "fig = plt.figure(figsize=(16, 4))\n",
        "ax = fig.add_subplot(1, 3, 1)\n",
        "plt.plot(history.history['loss'], lw=2, color='darkgoldenrod')\n",
        "plt.plot(history.history['val_loss'], lw=2, color='indianred')\n",
        "plt.legend(['Train', 'Validation'], fontsize=10)\n",
        "ax.set_xlabel('Epochs', size=10)\n",
        "ax.set_title('Loss')\n",
        "\n",
        "# Plot accuracy for train and validation\n",
        "ax = fig.add_subplot(1, 3, 2)\n",
        "plt.plot(history.history['binary_accuracy'], lw=2, color='darkgoldenrod')\n",
        "plt.plot(history.history['val_binary_accuracy'], lw=2, color='indianred')\n",
        "plt.legend(['Train', 'Validation'], fontsize=10)\n",
        "ax.set_xlabel('Epochs', size=10)\n",
        "ax.set_title('Accuracy')\n",
        "\n",
        "plt.show()\n"
      ],
      "metadata": {
        "colab": {
          "base_uri": "https://localhost:8080/",
          "height": 774
        },
        "id": "4hJWb46bz88U",
        "outputId": "235859ff-d234-417a-ea1f-600eb03a405a"
      },
      "id": "4hJWb46bz88U",
      "execution_count": 7,
      "outputs": [
        {
          "output_type": "stream",
          "name": "stdout",
          "text": [
            "Epoch 1/10\n",
            "\u001b[1m371/371\u001b[0m \u001b[32m━━━━━━━━━━━━━━━━━━━━\u001b[0m\u001b[37m\u001b[0m \u001b[1m3s\u001b[0m 3ms/step - binary_accuracy: 0.5192 - loss: 0.9710 - val_binary_accuracy: 0.6016 - val_loss: 0.7003\n",
            "Epoch 2/10\n",
            "\u001b[1m371/371\u001b[0m \u001b[32m━━━━━━━━━━━━━━━━━━━━\u001b[0m\u001b[37m\u001b[0m \u001b[1m1s\u001b[0m 3ms/step - binary_accuracy: 0.5991 - loss: 0.6924 - val_binary_accuracy: 0.6016 - val_loss: 0.6763\n",
            "Epoch 3/10\n",
            "\u001b[1m371/371\u001b[0m \u001b[32m━━━━━━━━━━━━━━━━━━━━\u001b[0m\u001b[37m\u001b[0m \u001b[1m1s\u001b[0m 4ms/step - binary_accuracy: 0.6049 - loss: 0.6769 - val_binary_accuracy: 0.6056 - val_loss: 0.6725\n",
            "Epoch 4/10\n",
            "\u001b[1m371/371\u001b[0m \u001b[32m━━━━━━━━━━━━━━━━━━━━\u001b[0m\u001b[37m\u001b[0m \u001b[1m3s\u001b[0m 5ms/step - binary_accuracy: 0.6055 - loss: 0.6730 - val_binary_accuracy: 0.6075 - val_loss: 0.6695\n",
            "Epoch 5/10\n",
            "\u001b[1m371/371\u001b[0m \u001b[32m━━━━━━━━━━━━━━━━━━━━\u001b[0m\u001b[37m\u001b[0m \u001b[1m1s\u001b[0m 3ms/step - binary_accuracy: 0.6141 - loss: 0.6688 - val_binary_accuracy: 0.6111 - val_loss: 0.6669\n",
            "Epoch 6/10\n",
            "\u001b[1m371/371\u001b[0m \u001b[32m━━━━━━━━━━━━━━━━━━━━\u001b[0m\u001b[37m\u001b[0m \u001b[1m1s\u001b[0m 3ms/step - binary_accuracy: 0.6181 - loss: 0.6651 - val_binary_accuracy: 0.6139 - val_loss: 0.6650\n",
            "Epoch 7/10\n",
            "\u001b[1m371/371\u001b[0m \u001b[32m━━━━━━━━━━━━━━━━━━━━\u001b[0m\u001b[37m\u001b[0m \u001b[1m1s\u001b[0m 3ms/step - binary_accuracy: 0.6298 - loss: 0.6601 - val_binary_accuracy: 0.6182 - val_loss: 0.6636\n",
            "Epoch 8/10\n",
            "\u001b[1m371/371\u001b[0m \u001b[32m━━━━━━━━━━━━━━━━━━━━\u001b[0m\u001b[37m\u001b[0m \u001b[1m1s\u001b[0m 3ms/step - binary_accuracy: 0.6408 - loss: 0.6547 - val_binary_accuracy: 0.6211 - val_loss: 0.6635\n",
            "Epoch 9/10\n",
            "\u001b[1m371/371\u001b[0m \u001b[32m━━━━━━━━━━━━━━━━━━━━\u001b[0m\u001b[37m\u001b[0m \u001b[1m1s\u001b[0m 3ms/step - binary_accuracy: 0.6520 - loss: 0.6458 - val_binary_accuracy: 0.6283 - val_loss: 0.6634\n",
            "Epoch 10/10\n",
            "\u001b[1m371/371\u001b[0m \u001b[32m━━━━━━━━━━━━━━━━━━━━\u001b[0m\u001b[37m\u001b[0m \u001b[1m1s\u001b[0m 3ms/step - binary_accuracy: 0.6631 - loss: 0.6430 - val_binary_accuracy: 0.6279 - val_loss: 0.6665\n",
            "Final Validation Accuracy: 0.63\n"
          ]
        },
        {
          "output_type": "display_data",
          "data": {
            "text/plain": [
              "<Figure size 1600x400 with 2 Axes>"
            ],
            "image/png": "[encoded data removed]"
          },
          "metadata": {}
        }
      ]
    },
    {
      "cell_type": "code",
      "source": [
        "final_test_accuracy = improved_model.evaluate(X_test_combined, y_test, verbose=0)\n",
        "print(f\"Final Test Accuracy: {final_test_accuracy[1]:.2f}\")"
      ],
      "metadata": {
        "colab": {
          "base_uri": "https://localhost:8080/"
        },
        "id": "51dVi5DZz3jR",
        "outputId": "68445094-5682-4b02-dbbb-d7b74666a2fb"
      },
      "id": "51dVi5DZz3jR",
      "execution_count": 8,
      "outputs": [
        {
          "output_type": "stream",
          "name": "stdout",
          "text": [
            "Final Test Accuracy: 0.64\n"
          ]
        }
      ]
    },
    {
      "cell_type": "markdown",
      "source": [
        "# Neural Network with XGBoost"
      ],
      "metadata": {
        "id": "FUEPrrcV7gZE"
      },
      "id": "FUEPrrcV7gZE"
    },
    {
      "cell_type": "code",
      "source": [
        "# Adjust the prepare_combined_features function to return padded_text separately\n",
        "def prepare_combined_features_for_nn(X_train, X_val, X_test):\n",
        "    \"\"\"\n",
        "    Prepare features for neural network by separating padded text from other features.\n",
        "\n",
        "    Parameters:\n",
        "    X_train, X_val, X_test: DataFrames containing the training, validation, and test data.\n",
        "\n",
        "    Returns:\n",
        "    X_train_padded, X_val_padded, X_test_padded: Arrays of padded text sequences.\n",
        "    X_train_features, X_val_features, X_test_features: Arrays of other features.\n",
        "    \"\"\"\n",
        "    # Convert padded text to NumPy arrays\n",
        "    X_train_padded = np.array(X_train['padded_text'].tolist())\n",
        "    X_val_padded = np.array(X_val['padded_text'].tolist())\n",
        "    X_test_padded = np.array(X_test['padded_text'].tolist())\n",
        "\n",
        "    # Get all columns except 'padded_text'\n",
        "    feature_columns = [col for col in X_train.columns if col != 'padded_text']\n",
        "\n",
        "    # Extract other features\n",
        "    X_train_features = X_train[feature_columns].to_numpy()\n",
        "    X_val_features = X_val[feature_columns].to_numpy()\n",
        "    X_test_features = X_test[feature_columns].to_numpy()\n",
        "\n",
        "    return X_train_padded, X_val_padded, X_test_padded, X_train_features, X_val_features, X_test_features\n",
        "\n",
        "# Use the adjusted function to prepare data\n",
        "X_train_padded, X_val_padded, X_test_padded, X_train_features, X_val_features, X_test_features = prepare_combined_features_for_nn(X_train, X_val, X_test)\n"
      ],
      "metadata": {
        "id": "P9sVUOMWAyx6"
      },
      "id": "P9sVUOMWAyx6",
      "execution_count": 9,
      "outputs": []
    },
    {
      "cell_type": "code",
      "source": [
        "from tensorflow.keras import Model\n",
        "from tensorflow.keras.layers import Input, Embedding, LSTM, GlobalAveragePooling1D\n",
        "\n",
        "def create_embedding_model(vocab_size=5000, embedding_dim=2, max_token_length=35):\n",
        "    \"\"\"\n",
        "    Create a neural network model to output text embeddings.\n",
        "\n",
        "    Parameters:\n",
        "    vocab_size (int): Size of the vocabulary.\n",
        "    embedding_dim (int): Dimension of the embedding vector.\n",
        "    max_token_length (int): Maximum length of input sequences (padded).\n",
        "\n",
        "    Returns:\n",
        "    model (tf.keras.Model): A Keras model that outputs embeddings.\n",
        "    \"\"\"\n",
        "    # Input layer for text sequences\n",
        "    text_input = Input(shape=(max_token_length,), name='text_input')\n",
        "\n",
        "    # Embedding layer\n",
        "    x = Embedding(input_dim=vocab_size, output_dim=embedding_dim, input_length=max_token_length)(text_input)\n",
        "    x = GlobalAveragePooling1D()(x)\n",
        "\n",
        "    # Build and return the model that outputs embeddings\n",
        "    model = Model(inputs=text_input, outputs=x, name='embedding_model')\n",
        "\n",
        "    return model\n",
        "\n",
        "vocab_size = 5000\n",
        "embedding_dim = 2\n",
        "max_token_length = 35\n",
        "\n",
        "# Create the embedding model\n",
        "embedding_model = create_embedding_model(vocab_size=vocab_size, embedding_dim=embedding_dim, max_token_length=max_token_length)\n",
        "\n",
        "# Show the model summary to verify its structure\n",
        "embedding_model.summary()\n"
      ],
      "metadata": {
        "colab": {
          "base_uri": "https://localhost:8080/",
          "height": 285
        },
        "id": "j0VgRc_hcSkQ",
        "outputId": "b032fcb1-3d64-4fb2-e343-c1191b5ae79d"
      },
      "id": "j0VgRc_hcSkQ",
      "execution_count": 10,
      "outputs": [
        {
          "output_type": "stream",
          "name": "stderr",
          "text": [
            "/usr/local/lib/python3.10/dist-packages/keras/src/layers/core/embedding.py:90: UserWarning: Argument `input_length` is deprecated. Just remove it.\n",
            "  warnings.warn(\n"
          ]
        },
        {
          "output_type": "display_data",
          "data": {
            "text/plain": [
              "\u001b[1mModel: \"embedding_model\"\u001b[0m\n"
            ],
            "text/html": [
              "<pre style=\"white-space:pre;overflow-x:auto;line-height:normal;font-family:Menlo,'DejaVu Sans Mono',consolas,'Courier New',monospace\"><span style=\"font-weight: bold\">Model: \"embedding_model\"</span>\n",
              "</pre>\n"
            ]
          },
          "metadata": {}
        },
        {
          "output_type": "display_data",
          "data": {
            "text/plain": [
              "┏━━━━━━━━━━━━━━━━━━━━━━━━━━━━━━━━━━━━━━┳━━━━━━━━━━━━━━━━━━━━━━━━━━━━━┳━━━━━━━━━━━━━━━━━┓\n",
              "┃\u001b[1m \u001b[0m\u001b[1mLayer (type)                        \u001b[0m\u001b[1m \u001b[0m┃\u001b[1m \u001b[0m\u001b[1mOutput Shape               \u001b[0m\u001b[1m \u001b[0m┃\u001b[1m \u001b[0m\u001b[1m        Param #\u001b[0m\u001b[1m \u001b[0m┃\n",
              "┡━━━━━━━━━━━━━━━━━━━━━━━━━━━━━━━━━━━━━━╇━━━━━━━━━━━━━━━━━━━━━━━━━━━━━╇━━━━━━━━━━━━━━━━━┩\n",
              "│ text_input (\u001b[38;5;33mInputLayer\u001b[0m)              │ (\u001b[38;5;45mNone\u001b[0m, \u001b[38;5;34m35\u001b[0m)                  │               \u001b[38;5;34m0\u001b[0m │\n",
              "├──────────────────────────────────────┼─────────────────────────────┼─────────────────┤\n",
              "│ embedding_1 (\u001b[38;5;33mEmbedding\u001b[0m)              │ (\u001b[38;5;45mNone\u001b[0m, \u001b[38;5;34m35\u001b[0m, \u001b[38;5;34m2\u001b[0m)               │          \u001b[38;5;34m10,000\u001b[0m │\n",
              "├──────────────────────────────────────┼─────────────────────────────┼─────────────────┤\n",
              "│ global_average_pooling1d_1           │ (\u001b[38;5;45mNone\u001b[0m, \u001b[38;5;34m2\u001b[0m)                   │               \u001b[38;5;34m0\u001b[0m │\n",
              "│ (\u001b[38;5;33mGlobalAveragePooling1D\u001b[0m)             │                             │                 │\n",
              "└──────────────────────────────────────┴─────────────────────────────┴─────────────────┘\n"
            ],
            "text/html": [
              "<pre style=\"white-space:pre;overflow-x:auto;line-height:normal;font-family:Menlo,'DejaVu Sans Mono',consolas,'Courier New',monospace\">┏━━━━━━━━━━━━━━━━━━━━━━━━━━━━━━━━━━━━━━┳━━━━━━━━━━━━━━━━━━━━━━━━━━━━━┳━━━━━━━━━━━━━━━━━┓\n",
              "┃<span style=\"font-weight: bold\"> Layer (type)                         </span>┃<span style=\"font-weight: bold\"> Output Shape                </span>┃<span style=\"font-weight: bold\">         Param # </span>┃\n",
              "┡━━━━━━━━━━━━━━━━━━━━━━━━━━━━━━━━━━━━━━╇━━━━━━━━━━━━━━━━━━━━━━━━━━━━━╇━━━━━━━━━━━━━━━━━┩\n",
              "│ text_input (<span style=\"color: #0087ff; text-decoration-color: #0087ff\">InputLayer</span>)              │ (<span style=\"color: #00d7ff; text-decoration-color: #00d7ff\">None</span>, <span style=\"color: #00af00; text-decoration-color: #00af00\">35</span>)                  │               <span style=\"color: #00af00; text-decoration-color: #00af00\">0</span> │\n",
              "├──────────────────────────────────────┼─────────────────────────────┼─────────────────┤\n",
              "│ embedding_1 (<span style=\"color: #0087ff; text-decoration-color: #0087ff\">Embedding</span>)              │ (<span style=\"color: #00d7ff; text-decoration-color: #00d7ff\">None</span>, <span style=\"color: #00af00; text-decoration-color: #00af00\">35</span>, <span style=\"color: #00af00; text-decoration-color: #00af00\">2</span>)               │          <span style=\"color: #00af00; text-decoration-color: #00af00\">10,000</span> │\n",
              "├──────────────────────────────────────┼─────────────────────────────┼─────────────────┤\n",
              "│ global_average_pooling1d_1           │ (<span style=\"color: #00d7ff; text-decoration-color: #00d7ff\">None</span>, <span style=\"color: #00af00; text-decoration-color: #00af00\">2</span>)                   │               <span style=\"color: #00af00; text-decoration-color: #00af00\">0</span> │\n",
              "│ (<span style=\"color: #0087ff; text-decoration-color: #0087ff\">GlobalAveragePooling1D</span>)             │                             │                 │\n",
              "└──────────────────────────────────────┴─────────────────────────────┴─────────────────┘\n",
              "</pre>\n"
            ]
          },
          "metadata": {}
        },
        {
          "output_type": "display_data",
          "data": {
            "text/plain": [
              "\u001b[1m Total params: \u001b[0m\u001b[38;5;34m10,000\u001b[0m (39.06 KB)\n"
            ],
            "text/html": [
              "<pre style=\"white-space:pre;overflow-x:auto;line-height:normal;font-family:Menlo,'DejaVu Sans Mono',consolas,'Courier New',monospace\"><span style=\"font-weight: bold\"> Total params: </span><span style=\"color: #00af00; text-decoration-color: #00af00\">10,000</span> (39.06 KB)\n",
              "</pre>\n"
            ]
          },
          "metadata": {}
        },
        {
          "output_type": "display_data",
          "data": {
            "text/plain": [
              "\u001b[1m Trainable params: \u001b[0m\u001b[38;5;34m10,000\u001b[0m (39.06 KB)\n"
            ],
            "text/html": [
              "<pre style=\"white-space:pre;overflow-x:auto;line-height:normal;font-family:Menlo,'DejaVu Sans Mono',consolas,'Courier New',monospace\"><span style=\"font-weight: bold\"> Trainable params: </span><span style=\"color: #00af00; text-decoration-color: #00af00\">10,000</span> (39.06 KB)\n",
              "</pre>\n"
            ]
          },
          "metadata": {}
        },
        {
          "output_type": "display_data",
          "data": {
            "text/plain": [
              "\u001b[1m Non-trainable params: \u001b[0m\u001b[38;5;34m0\u001b[0m (0.00 B)\n"
            ],
            "text/html": [
              "<pre style=\"white-space:pre;overflow-x:auto;line-height:normal;font-family:Menlo,'DejaVu Sans Mono',consolas,'Courier New',monospace\"><span style=\"font-weight: bold\"> Non-trainable params: </span><span style=\"color: #00af00; text-decoration-color: #00af00\">0</span> (0.00 B)\n",
              "</pre>\n"
            ]
          },
          "metadata": {}
        }
      ]
    },
    {
      "cell_type": "code",
      "source": [
        "# Generate embeddings for training, validation, and test sets\n",
        "X_train_embeddings = embedding_model.predict(X_train_padded)\n",
        "X_val_embeddings = embedding_model.predict(X_val_padded)\n",
        "X_test_embeddings = embedding_model.predict(X_test_padded)\n"
      ],
      "metadata": {
        "colab": {
          "base_uri": "https://localhost:8080/"
        },
        "id": "JRqkxfqNcVFY",
        "outputId": "9dfdeaac-f0ea-4309-b4c0-40456fa9223f"
      },
      "id": "JRqkxfqNcVFY",
      "execution_count": 11,
      "outputs": [
        {
          "output_type": "stream",
          "name": "stdout",
          "text": [
            "\u001b[1m741/741\u001b[0m \u001b[32m━━━━━━━━━━━━━━━━━━━━\u001b[0m\u001b[37m\u001b[0m \u001b[1m1s\u001b[0m 1ms/step\n",
            "\u001b[1m247/247\u001b[0m \u001b[32m━━━━━━━━━━━━━━━━━━━━\u001b[0m\u001b[37m\u001b[0m \u001b[1m0s\u001b[0m 2ms/step\n",
            "\u001b[1m247/247\u001b[0m \u001b[32m━━━━━━━━━━━━━━━━━━━━\u001b[0m\u001b[37m\u001b[0m \u001b[1m0s\u001b[0m 2ms/step\n"
          ]
        }
      ]
    },
    {
      "cell_type": "code",
      "source": [
        "import numpy as np\n",
        "\n",
        "def combine_embeddings_with_features(text_embeddings, other_features):\n",
        "    \"\"\"\n",
        "    Combine text embeddings with other features.\n",
        "\n",
        "    Parameters:\n",
        "    text_embeddings (np.array): Array of text embeddings.\n",
        "    other_features (np.array): Array of other features.\n",
        "\n",
        "    Returns:\n",
        "    np.array: Combined feature matrix.\n",
        "    \"\"\"\n",
        "    return np.hstack([text_embeddings, other_features])\n"
      ],
      "metadata": {
        "id": "HtSlsqN-ec4Z"
      },
      "id": "HtSlsqN-ec4Z",
      "execution_count": 12,
      "outputs": []
    },
    {
      "cell_type": "code",
      "source": [
        "import xgboost as xgb\n",
        "from sklearn.metrics import accuracy_score\n",
        "\n",
        "\n",
        "# Combine text embeddings with other features\n",
        "X_train_combined = combine_embeddings_with_features(X_train_embeddings, X_train_features)\n",
        "X_val_combined = combine_embeddings_with_features(X_val_embeddings, X_val_features)\n",
        "X_test_combined = combine_embeddings_with_features(X_test_embeddings, X_test_features)\n",
        "\n",
        "def train_xgboost(X_train_combined, y_train, X_val_combined, y_val):\n",
        "    \"\"\"\n",
        "    Train an XGBoost model for binary classification.\n",
        "\n",
        "    Parameters:\n",
        "    X_train_combined (np.array): Combined features for training.\n",
        "    y_train (np.array): Training labels.\n",
        "    X_val_combined (np.array): Combined features for validation.\n",
        "    y_val (np.array): Validation labels.\n",
        "\n",
        "    Returns:\n",
        "    xgb.XGBClassifier: Trained XGBoost model.\n",
        "    \"\"\"\n",
        "    model = xgb.XGBClassifier(\n",
        "        n_estimators=100,\n",
        "        max_depth=5,\n",
        "        learning_rate=0.1,\n",
        "        objective='binary:logistic',\n",
        "        use_label_encoder=False,\n",
        "        eval_metric='logloss'\n",
        "    )\n",
        "    model.fit(X_train_combined, y_train)\n",
        "    y_val_pred = model.predict(X_val_combined)\n",
        "    val_accuracy = accuracy_score(y_val, y_val_pred)\n",
        "    print(f\"XGBoost Validation Accuracy: {val_accuracy:.4f}\")\n",
        "    return model\n",
        "\n",
        "# Train the XGBoost model\n",
        "xgb_model = train_xgboost(X_train_combined, y_train, X_val_combined, y_val)\n",
        "\n",
        "# Evaluate on the test set\n",
        "y_test_pred = xgb_model.predict(X_test_combined)\n",
        "test_accuracy = accuracy_score(y_test, y_test_pred)\n",
        "print(f\"XGBoost Test Accuracy with Embeddings: {test_accuracy:.4f}\")\n"
      ],
      "metadata": {
        "colab": {
          "base_uri": "https://localhost:8080/"
        },
        "id": "tiaO7x2FemjW",
        "outputId": "980dda7d-5e3c-4268-8b7f-7f6114d26997"
      },
      "id": "tiaO7x2FemjW",
      "execution_count": 13,
      "outputs": [
        {
          "output_type": "stream",
          "name": "stderr",
          "text": [
            "/usr/local/lib/python3.10/dist-packages/xgboost/core.py:158: UserWarning: [00:20:00] WARNING: /workspace/src/learner.cc:740: \n",
            "Parameters: { \"use_label_encoder\" } are not used.\n",
            "\n",
            "  warnings.warn(smsg, UserWarning)\n"
          ]
        },
        {
          "output_type": "stream",
          "name": "stdout",
          "text": [
            "XGBoost Validation Accuracy: 0.6198\n",
            "XGBoost Test Accuracy with Embeddings: 0.6335\n"
          ]
        }
      ]
    },
    {
      "cell_type": "markdown",
      "source": [
        "# Improving the XG Boost"
      ],
      "metadata": {
        "id": "uqAo946MfK5W"
      },
      "id": "uqAo946MfK5W"
    },
    {
      "cell_type": "code",
      "source": [
        "from tensorflow.keras import Model\n",
        "from tensorflow.keras.layers import Input, Embedding, LSTM, GlobalAveragePooling1D, Dense\n",
        "\n",
        "def create_improved_embedding_model(vocab_size=5000, embedding_dim=16, max_token_length=35):\n",
        "    \"\"\"\n",
        "    Create a more complex neural network model to output text embeddings.\n",
        "\n",
        "    Parameters:\n",
        "    vocab_size (int): Size of the vocabulary.\n",
        "    embedding_dim (int): Dimension of the embedding vector.\n",
        "    max_token_length (int): Maximum length of input sequences (padded).\n",
        "\n",
        "    Returns:\n",
        "    model (tf.keras.Model): A Keras model that outputs embeddings.\n",
        "    \"\"\"\n",
        "    # Input layer for text sequences\n",
        "    text_input = Input(shape=(max_token_length,), name='text_input')\n",
        "\n",
        "    # Embedding layer\n",
        "    x = Embedding(input_dim=vocab_size, output_dim=embedding_dim, input_length=max_token_length)(text_input)\n",
        "\n",
        "    # LSTM layer with return_sequences=True to retain the sequence dimension\n",
        "    x = LSTM(64, return_sequences=True)(x)\n",
        "\n",
        "    # Global Average Pooling\n",
        "    x = GlobalAveragePooling1D()(x)\n",
        "\n",
        "    # Dense layer for extra processing\n",
        "    x = Dense(32, activation='relu')(x)\n",
        "\n",
        "    # Build and return the model that outputs embeddings\n",
        "    model = Model(inputs=text_input, outputs=x, name='improved_embedding_model')\n",
        "\n",
        "    return model\n",
        "\n",
        "# Example parameters, adjust them according to your needs\n",
        "vocab_size = 5000\n",
        "embedding_dim = 16\n",
        "max_token_length = 35\n",
        "\n",
        "# Create the improved embedding model\n",
        "embedding_model = create_improved_embedding_model(vocab_size=vocab_size, embedding_dim=embedding_dim, max_token_length=max_token_length)\n",
        "\n",
        "# Show the model summary to verify its structure\n",
        "embedding_model.summary()\n",
        "\n",
        "# Generate embeddings for training, validation, and test sets\n",
        "X_train_embeddings = embedding_model.predict(X_train_padded)\n",
        "X_val_embeddings = embedding_model.predict(X_val_padded)\n",
        "X_test_embeddings = embedding_model.predict(X_test_padded)\n"
      ],
      "metadata": {
        "colab": {
          "base_uri": "https://localhost:8080/",
          "height": 404
        },
        "id": "Aq85018XfRGH",
        "outputId": "b6c9c401-1257-49d6-b60e-631152907e46"
      },
      "id": "Aq85018XfRGH",
      "execution_count": 14,
      "outputs": [
        {
          "output_type": "stream",
          "name": "stderr",
          "text": [
            "/usr/local/lib/python3.10/dist-packages/keras/src/layers/core/embedding.py:90: UserWarning: Argument `input_length` is deprecated. Just remove it.\n",
            "  warnings.warn(\n"
          ]
        },
        {
          "output_type": "display_data",
          "data": {
            "text/plain": [
              "\u001b[1mModel: \"improved_embedding_model\"\u001b[0m\n"
            ],
            "text/html": [
              "<pre style=\"white-space:pre;overflow-x:auto;line-height:normal;font-family:Menlo,'DejaVu Sans Mono',consolas,'Courier New',monospace\"><span style=\"font-weight: bold\">Model: \"improved_embedding_model\"</span>\n",
              "</pre>\n"
            ]
          },
          "metadata": {}
        },
        {
          "output_type": "display_data",
          "data": {
            "text/plain": [
              "┏━━━━━━━━━━━━━━━━━━━━━━━━━━━━━━━━━━━━━━┳━━━━━━━━━━━━━━━━━━━━━━━━━━━━━┳━━━━━━━━━━━━━━━━━┓\n",
              "┃\u001b[1m \u001b[0m\u001b[1mLayer (type)                        \u001b[0m\u001b[1m \u001b[0m┃\u001b[1m \u001b[0m\u001b[1mOutput Shape               \u001b[0m\u001b[1m \u001b[0m┃\u001b[1m \u001b[0m\u001b[1m        Param #\u001b[0m\u001b[1m \u001b[0m┃\n",
              "┡━━━━━━━━━━━━━━━━━━━━━━━━━━━━━━━━━━━━━━╇━━━━━━━━━━━━━━━━━━━━━━━━━━━━━╇━━━━━━━━━━━━━━━━━┩\n",
              "│ text_input (\u001b[38;5;33mInputLayer\u001b[0m)              │ (\u001b[38;5;45mNone\u001b[0m, \u001b[38;5;34m35\u001b[0m)                  │               \u001b[38;5;34m0\u001b[0m │\n",
              "├──────────────────────────────────────┼─────────────────────────────┼─────────────────┤\n",
              "│ embedding_2 (\u001b[38;5;33mEmbedding\u001b[0m)              │ (\u001b[38;5;45mNone\u001b[0m, \u001b[38;5;34m35\u001b[0m, \u001b[38;5;34m16\u001b[0m)              │          \u001b[38;5;34m80,000\u001b[0m │\n",
              "├──────────────────────────────────────┼─────────────────────────────┼─────────────────┤\n",
              "│ lstm (\u001b[38;5;33mLSTM\u001b[0m)                          │ (\u001b[38;5;45mNone\u001b[0m, \u001b[38;5;34m35\u001b[0m, \u001b[38;5;34m64\u001b[0m)              │          \u001b[38;5;34m20,736\u001b[0m │\n",
              "├──────────────────────────────────────┼─────────────────────────────┼─────────────────┤\n",
              "│ global_average_pooling1d_2           │ (\u001b[38;5;45mNone\u001b[0m, \u001b[38;5;34m64\u001b[0m)                  │               \u001b[38;5;34m0\u001b[0m │\n",
              "│ (\u001b[38;5;33mGlobalAveragePooling1D\u001b[0m)             │                             │                 │\n",
              "├──────────────────────────────────────┼─────────────────────────────┼─────────────────┤\n",
              "│ dense_3 (\u001b[38;5;33mDense\u001b[0m)                      │ (\u001b[38;5;45mNone\u001b[0m, \u001b[38;5;34m32\u001b[0m)                  │           \u001b[38;5;34m2,080\u001b[0m │\n",
              "└──────────────────────────────────────┴─────────────────────────────┴─────────────────┘\n"
            ],
            "text/html": [
              "<pre style=\"white-space:pre;overflow-x:auto;line-height:normal;font-family:Menlo,'DejaVu Sans Mono',consolas,'Courier New',monospace\">┏━━━━━━━━━━━━━━━━━━━━━━━━━━━━━━━━━━━━━━┳━━━━━━━━━━━━━━━━━━━━━━━━━━━━━┳━━━━━━━━━━━━━━━━━┓\n",
              "┃<span style=\"font-weight: bold\"> Layer (type)                         </span>┃<span style=\"font-weight: bold\"> Output Shape                </span>┃<span style=\"font-weight: bold\">         Param # </span>┃\n",
              "┡━━━━━━━━━━━━━━━━━━━━━━━━━━━━━━━━━━━━━━╇━━━━━━━━━━━━━━━━━━━━━━━━━━━━━╇━━━━━━━━━━━━━━━━━┩\n",
              "│ text_input (<span style=\"color: #0087ff; text-decoration-color: #0087ff\">InputLayer</span>)              │ (<span style=\"color: #00d7ff; text-decoration-color: #00d7ff\">None</span>, <span style=\"color: #00af00; text-decoration-color: #00af00\">35</span>)                  │               <span style=\"color: #00af00; text-decoration-color: #00af00\">0</span> │\n",
              "├──────────────────────────────────────┼─────────────────────────────┼─────────────────┤\n",
              "│ embedding_2 (<span style=\"color: #0087ff; text-decoration-color: #0087ff\">Embedding</span>)              │ (<span style=\"color: #00d7ff; text-decoration-color: #00d7ff\">None</span>, <span style=\"color: #00af00; text-decoration-color: #00af00\">35</span>, <span style=\"color: #00af00; text-decoration-color: #00af00\">16</span>)              │          <span style=\"color: #00af00; text-decoration-color: #00af00\">80,000</span> │\n",
              "├──────────────────────────────────────┼─────────────────────────────┼─────────────────┤\n",
              "│ lstm (<span style=\"color: #0087ff; text-decoration-color: #0087ff\">LSTM</span>)                          │ (<span style=\"color: #00d7ff; text-decoration-color: #00d7ff\">None</span>, <span style=\"color: #00af00; text-decoration-color: #00af00\">35</span>, <span style=\"color: #00af00; text-decoration-color: #00af00\">64</span>)              │          <span style=\"color: #00af00; text-decoration-color: #00af00\">20,736</span> │\n",
              "├──────────────────────────────────────┼─────────────────────────────┼─────────────────┤\n",
              "│ global_average_pooling1d_2           │ (<span style=\"color: #00d7ff; text-decoration-color: #00d7ff\">None</span>, <span style=\"color: #00af00; text-decoration-color: #00af00\">64</span>)                  │               <span style=\"color: #00af00; text-decoration-color: #00af00\">0</span> │\n",
              "│ (<span style=\"color: #0087ff; text-decoration-color: #0087ff\">GlobalAveragePooling1D</span>)             │                             │                 │\n",
              "├──────────────────────────────────────┼─────────────────────────────┼─────────────────┤\n",
              "│ dense_3 (<span style=\"color: #0087ff; text-decoration-color: #0087ff\">Dense</span>)                      │ (<span style=\"color: #00d7ff; text-decoration-color: #00d7ff\">None</span>, <span style=\"color: #00af00; text-decoration-color: #00af00\">32</span>)                  │           <span style=\"color: #00af00; text-decoration-color: #00af00\">2,080</span> │\n",
              "└──────────────────────────────────────┴─────────────────────────────┴─────────────────┘\n",
              "</pre>\n"
            ]
          },
          "metadata": {}
        },
        {
          "output_type": "display_data",
          "data": {
            "text/plain": [
              "\u001b[1m Total params: \u001b[0m\u001b[38;5;34m102,816\u001b[0m (401.62 KB)\n"
            ],
            "text/html": [
              "<pre style=\"white-space:pre;overflow-x:auto;line-height:normal;font-family:Menlo,'DejaVu Sans Mono',consolas,'Courier New',monospace\"><span style=\"font-weight: bold\"> Total params: </span><span style=\"color: #00af00; text-decoration-color: #00af00\">102,816</span> (401.62 KB)\n",
              "</pre>\n"
            ]
          },
          "metadata": {}
        },
        {
          "output_type": "display_data",
          "data": {
            "text/plain": [
              "\u001b[1m Trainable params: \u001b[0m\u001b[38;5;34m102,816\u001b[0m (401.62 KB)\n"
            ],
            "text/html": [
              "<pre style=\"white-space:pre;overflow-x:auto;line-height:normal;font-family:Menlo,'DejaVu Sans Mono',consolas,'Courier New',monospace\"><span style=\"font-weight: bold\"> Trainable params: </span><span style=\"color: #00af00; text-decoration-color: #00af00\">102,816</span> (401.62 KB)\n",
              "</pre>\n"
            ]
          },
          "metadata": {}
        },
        {
          "output_type": "display_data",
          "data": {
            "text/plain": [
              "\u001b[1m Non-trainable params: \u001b[0m\u001b[38;5;34m0\u001b[0m (0.00 B)\n"
            ],
            "text/html": [
              "<pre style=\"white-space:pre;overflow-x:auto;line-height:normal;font-family:Menlo,'DejaVu Sans Mono',consolas,'Courier New',monospace\"><span style=\"font-weight: bold\"> Non-trainable params: </span><span style=\"color: #00af00; text-decoration-color: #00af00\">0</span> (0.00 B)\n",
              "</pre>\n"
            ]
          },
          "metadata": {}
        },
        {
          "output_type": "stream",
          "name": "stdout",
          "text": [
            "\u001b[1m741/741\u001b[0m \u001b[32m━━━━━━━━━━━━━━━━━━━━\u001b[0m\u001b[37m\u001b[0m \u001b[1m6s\u001b[0m 8ms/step\n",
            "\u001b[1m247/247\u001b[0m \u001b[32m━━━━━━━━━━━━━━━━━━━━\u001b[0m\u001b[37m\u001b[0m \u001b[1m2s\u001b[0m 7ms/step\n",
            "\u001b[1m247/247\u001b[0m \u001b[32m━━━━━━━━━━━━━━━━━━━━\u001b[0m\u001b[37m\u001b[0m \u001b[1m2s\u001b[0m 7ms/step\n"
          ]
        }
      ]
    },
    {
      "cell_type": "code",
      "source": [
        "# Combine text embeddings with other features\n",
        "X_train_combined = combine_embeddings_with_features(X_train_embeddings, X_train_features)\n",
        "X_val_combined = combine_embeddings_with_features(X_val_embeddings, X_val_features)\n",
        "X_test_combined = combine_embeddings_with_features(X_test_embeddings, X_test_features)"
      ],
      "metadata": {
        "id": "QkLg40MUgGFd"
      },
      "id": "QkLg40MUgGFd",
      "execution_count": 15,
      "outputs": []
    },
    {
      "cell_type": "code",
      "source": [
        "from sklearn.model_selection import RandomizedSearchCV\n",
        "import xgboost as xgb\n",
        "\n",
        "def tune_xgboost(X_train_combined, y_train):\n",
        "    \"\"\"\n",
        "    Perform hyperparameter tuning for XGBoost using RandomizedSearchCV.\n",
        "\n",
        "    Parameters:\n",
        "    X_train_combined (np.array): Combined features for training.\n",
        "    y_train (np.array): Training labels.\n",
        "\n",
        "    Returns:\n",
        "    xgb.XGBClassifier: Best XGBoost model from random search.\n",
        "    \"\"\"\n",
        "    # Define the parameter grid to search over\n",
        "    param_dist = {\n",
        "        'n_estimators': [50, 100, 200],  # Number of boosting rounds\n",
        "        'max_depth': [3, 5, 7],  # Maximum depth of the trees\n",
        "        'learning_rate': [0.01, 0.1, 0.2],  # Step size shrinkage\n",
        "        'subsample': [0.8, 1.0],  # Fraction of samples used per tree\n",
        "        'colsample_bytree': [0.8, 1.0],  # Fraction of features used per tree\n",
        "        'gamma': [0, 0.1, 0.3],  # Minimum loss reduction\n",
        "        'reg_alpha': [0, 0.1, 0.5],  # L1 regularization term\n",
        "        'reg_lambda': [1, 1.5, 2],  # L2 regularization term\n",
        "    }\n",
        "\n",
        "    # Initialize the XGBoost model\n",
        "    xgb_model = xgb.XGBClassifier(objective='binary:logistic', eval_metric='logloss')\n",
        "\n",
        "    # Set up RandomizedSearchCV\n",
        "    random_search = RandomizedSearchCV(estimator=xgb_model, param_distributions=param_dist,\n",
        "                                       scoring='accuracy', cv=3, verbose=1, n_iter=50, n_jobs=-1, random_state=42)\n",
        "\n",
        "    # Fit RandomizedSearchCV\n",
        "    random_search.fit(X_train_combined, y_train)\n",
        "\n",
        "    # Output the best parameters and best score\n",
        "    print(f\"Best parameters found: {random_search.best_params_}\")\n",
        "    print(f\"Best validation accuracy: {random_search.best_score_:.4f}\")\n",
        "\n",
        "    return random_search.best_estimator_\n",
        "\n",
        "# Tune the XGBoost model\n",
        "xgb_best_model = tune_xgboost(X_train_combined, y_train)\n",
        "\n",
        "# Evaluate the best model on validation and test sets\n",
        "y_val_pred = xgb_best_model.predict(X_val_combined)\n",
        "val_accuracy = accuracy_score(y_val, y_val_pred)\n",
        "print(f\"Tuned XGBoost Validation Accuracy: {val_accuracy:.4f}\")\n",
        "\n",
        "y_test_pred = xgb_best_model.predict(X_test_combined)\n",
        "test_accuracy = accuracy_score(y_test, y_test_pred)\n",
        "print(f\"Tuned XGBoost Test Accuracy: {test_accuracy:.4f}\")\n"
      ],
      "metadata": {
        "colab": {
          "base_uri": "https://localhost:8080/"
        },
        "id": "8X0D2cXPi4bO",
        "outputId": "79b743c8-283f-4b6e-96b8-020a205cd07e"
      },
      "id": "8X0D2cXPi4bO",
      "execution_count": 16,
      "outputs": [
        {
          "output_type": "stream",
          "name": "stdout",
          "text": [
            "Fitting 3 folds for each of 50 candidates, totalling 150 fits\n"
          ]
        },
        {
          "output_type": "stream",
          "name": "stderr",
          "text": [
            "/usr/local/lib/python3.10/dist-packages/joblib/externals/loky/backend/fork_exec.py:38: RuntimeWarning: os.fork() was called. os.fork() is incompatible with multithreaded code, and JAX is multithreaded, so this will likely lead to a deadlock.\n",
            "  pid = os.fork()\n",
            "/usr/local/lib/python3.10/dist-packages/joblib/externals/loky/backend/fork_exec.py:38: RuntimeWarning: os.fork() was called. os.fork() is incompatible with multithreaded code, and JAX is multithreaded, so this will likely lead to a deadlock.\n",
            "  pid = os.fork()\n"
          ]
        },
        {
          "output_type": "stream",
          "name": "stdout",
          "text": [
            "Best parameters found: {'subsample': 1.0, 'reg_lambda': 1.5, 'reg_alpha': 0, 'n_estimators': 100, 'max_depth': 3, 'learning_rate': 0.1, 'gamma': 0, 'colsample_bytree': 1.0}\n",
            "Best validation accuracy: 0.6246\n",
            "Tuned XGBoost Validation Accuracy: 0.6188\n",
            "Tuned XGBoost Test Accuracy: 0.6314\n"
          ]
        }
      ]
    },
    {
      "cell_type": "markdown",
      "source": [
        "#### The final chosen model is the neural network with all features including the learned embeddings since the XG Boost with neural network embeddings did not improve the model by much."
      ],
      "metadata": {
        "id": "jCNANg9f2RBP"
      },
      "id": "jCNANg9f2RBP"
    },
    {
      "cell_type": "code",
      "source": [],
      "metadata": {
        "id": "E85dxNOf0o8R"
      },
      "id": "E85dxNOf0o8R",
      "execution_count": 16,
      "outputs": []
    }
  ],
  "metadata": {
    "colab": {
      "provenance": []
    },
    "language_info": {
      "name": "python"
    },
    "kernelspec": {
      "name": "python3",
      "display_name": "Python 3"
    }
  },
  "nbformat": 4,
  "nbformat_minor": 5
}
